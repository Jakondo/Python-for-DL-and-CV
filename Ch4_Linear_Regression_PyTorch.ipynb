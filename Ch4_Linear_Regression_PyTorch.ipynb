{
  "nbformat": 4,
  "nbformat_minor": 0,
  "metadata": {
    "colab": {
      "name": "Ch4: Linear Regression - PyTorch.ipynb",
      "version": "0.3.2",
      "provenance": [],
      "include_colab_link": true
    },
    "kernelspec": {
      "name": "python3",
      "display_name": "Python 3"
    },
    "accelerator": "GPU"
  },
  "cells": [
    {
      "cell_type": "markdown",
      "metadata": {
        "id": "view-in-github",
        "colab_type": "text"
      },
      "source": [
        "<a href=\"https://colab.research.google.com/github/Jakondo/Python-for-DL-and-CV/blob/master/Ch4_Linear_Regression_PyTorch.ipynb\" target=\"_parent\"><img src=\"https://colab.research.google.com/assets/colab-badge.svg\" alt=\"Open In Colab\"/></a>"
      ]
    },
    {
      "cell_type": "markdown",
      "metadata": {
        "id": "ZXHnfMaAlpZ6",
        "colab_type": "text"
      },
      "source": [
        "#Chapter 4: Linear Regression - PyTorch\n",
        "---\n",
        "\n",
        "\n",
        "\n"
      ]
    },
    {
      "cell_type": "code",
      "metadata": {
        "id": "pSefx2fRld4V",
        "colab_type": "code",
        "colab": {}
      },
      "source": [
        "import torch\n",
        "from torch.nn import Linear\n",
        "import torch.nn as nn\n",
        "import matplotlib.pyplot as plt\n",
        "import numpy as np"
      ],
      "execution_count": 0,
      "outputs": []
    },
    {
      "cell_type": "markdown",
      "metadata": {
        "id": "X6i6uofOwBmg",
        "colab_type": "text"
      },
      "source": [
        "#Making Predictions"
      ]
    },
    {
      "cell_type": "code",
      "metadata": {
        "id": "8GHSLUm8v9-9",
        "colab_type": "code",
        "colab": {}
      },
      "source": [
        "w = torch.tensor(3.0, requires_grad=True)\n",
        "b = torch.tensor(1.0, requires_grad=True)"
      ],
      "execution_count": 0,
      "outputs": []
    },
    {
      "cell_type": "code",
      "metadata": {
        "id": "5LXhXIc_xDk_",
        "colab_type": "code",
        "colab": {}
      },
      "source": [
        "def forward(x):\n",
        "  y = w*x +b\n",
        "  return y"
      ],
      "execution_count": 0,
      "outputs": []
    },
    {
      "cell_type": "code",
      "metadata": {
        "id": "TESlxuEBxQNw",
        "colab_type": "code",
        "outputId": "d0523ff9-c805-499a-b33d-881f86d0585a",
        "colab": {
          "base_uri": "https://localhost:8080/",
          "height": 54
        }
      },
      "source": [
        "x = torch.tensor([[4], [7]])\n",
        "forward(x)"
      ],
      "execution_count": 0,
      "outputs": [
        {
          "output_type": "execute_result",
          "data": {
            "text/plain": [
              "tensor([[13],\n",
              "        [22]], grad_fn=<AddBackward0>)"
            ]
          },
          "metadata": {
            "tags": []
          },
          "execution_count": 11
        }
      ]
    },
    {
      "cell_type": "markdown",
      "metadata": {
        "id": "xDVqpRzix0HO",
        "colab_type": "text"
      },
      "source": [
        "#Linear Class"
      ]
    },
    {
      "cell_type": "code",
      "metadata": {
        "id": "_U7hILcmxT8w",
        "colab_type": "code",
        "outputId": "e1354473-d05b-4764-c099-4ddcba1c66ff",
        "colab": {
          "base_uri": "https://localhost:8080/",
          "height": 72
        }
      },
      "source": [
        "torch.manual_seed(1) #используется для того чтобы вводимые рандомные значения не менялись\n",
        "model = Linear(in_features=1, out_features=1)\n",
        "print(model.bias, model.weight)"
      ],
      "execution_count": 0,
      "outputs": [
        {
          "output_type": "stream",
          "text": [
            "Parameter containing:\n",
            "tensor([-0.4414], requires_grad=True) Parameter containing:\n",
            "tensor([[0.5153]], requires_grad=True)\n"
          ],
          "name": "stdout"
        }
      ]
    },
    {
      "cell_type": "code",
      "metadata": {
        "id": "Tss4RM2mzLXF",
        "colab_type": "code",
        "outputId": "812764ec-1664-478a-db95-de105b11cfe1",
        "colab": {
          "base_uri": "https://localhost:8080/",
          "height": 72
        }
      },
      "source": [
        "x = torch.tensor([[2.0], [3.0], [4.5]])\n",
        "model(x)"
      ],
      "execution_count": 0,
      "outputs": [
        {
          "output_type": "execute_result",
          "data": {
            "text/plain": [
              "tensor([[0.5891],\n",
              "        [1.1044],\n",
              "        [1.8773]], grad_fn=<AddmmBackward>)"
            ]
          },
          "metadata": {
            "tags": []
          },
          "execution_count": 13
        }
      ]
    },
    {
      "cell_type": "markdown",
      "metadata": {
        "id": "KwR2XMkazu2E",
        "colab_type": "text"
      },
      "source": [
        "#Custom Modules"
      ]
    },
    {
      "cell_type": "code",
      "metadata": {
        "id": "WMfsy5XIzyOJ",
        "colab_type": "code",
        "colab": {}
      },
      "source": [
        "class LR(nn.Module):\n",
        "  def __init__(self, input_size, output_size):\n",
        "    super().__init__()\n",
        "    self.linear = nn.Linear(input_size, output_size)\n",
        "  \n",
        "  def forward(self, x):\n",
        "    pred = self.linear(x)\n",
        "    return pred"
      ],
      "execution_count": 0,
      "outputs": []
    },
    {
      "cell_type": "code",
      "metadata": {
        "id": "zisdTmDh2uv4",
        "colab_type": "code",
        "colab": {}
      },
      "source": [
        "torch.manual_seed(1)\n",
        "model = LR(1, 1)\n",
        "#print(list(model.parameters()))"
      ],
      "execution_count": 0,
      "outputs": []
    },
    {
      "cell_type": "markdown",
      "metadata": {
        "id": "cY2TPbiG32PK",
        "colab_type": "text"
      },
      "source": [
        "#Creating Dataset"
      ]
    },
    {
      "cell_type": "code",
      "metadata": {
        "id": "9H7QMYWO3fjF",
        "colab_type": "code",
        "outputId": "18ffdbaf-3e50-4160-aeca-8989a0815e45",
        "colab": {
          "base_uri": "https://localhost:8080/",
          "height": 301
        }
      },
      "source": [
        "X = torch.randn(100, 1)*10\n",
        "y = X + 3*torch.randn(100, 1)\n",
        "plt.plot(X.numpy(), y.numpy(), 'o');\n",
        "plt.ylabel('y')\n",
        "plt.xlabel('X')"
      ],
      "execution_count": 0,
      "outputs": [
        {
          "output_type": "execute_result",
          "data": {
            "text/plain": [
              "Text(0.5, 0, 'X')"
            ]
          },
          "metadata": {
            "tags": []
          },
          "execution_count": 31
        },
        {
          "output_type": "display_data",
          "data": {
            "image/png": "[encoded data removed]",
            "text/plain": [
              "<Figure size 432x288 with 1 Axes>"
            ]
          },
          "metadata": {
            "tags": []
          }
        }
      ]
    },
    {
      "cell_type": "code",
      "metadata": {
        "id": "qhdxdsOE8LsW",
        "colab_type": "code",
        "colab": {}
      },
      "source": [
        "class LR(nn.Module):\n",
        "  def __init__(self, input_size, output_size):\n",
        "    super().__init__()\n",
        "    self.linear = nn.Linear(input_size, output_size)\n",
        "  \n",
        "  def forward(self, x):\n",
        "    pred = self.linear(x)\n",
        "    return pred"
      ],
      "execution_count": 0,
      "outputs": []
    },
    {
      "cell_type": "code",
      "metadata": {
        "colab_type": "code",
        "id": "jjUQv_sL-umx",
        "colab": {}
      },
      "source": [
        "torch.manual_seed(1)\n",
        "model = LR(1, 1)"
      ],
      "execution_count": 0,
      "outputs": []
    },
    {
      "cell_type": "code",
      "metadata": {
        "id": "EPx8FRe9_Pfp",
        "colab_type": "code",
        "colab": {}
      },
      "source": [
        "[w, b] = model.parameters()\n",
        "def get_params():\n",
        "  return(w[0][0].item(), b[0].item())"
      ],
      "execution_count": 0,
      "outputs": []
    },
    {
      "cell_type": "code",
      "metadata": {
        "id": "w-r0kSrCJktN",
        "colab_type": "code",
        "colab": {}
      },
      "source": [
        "def plot_fit(title):\n",
        "  plt.title = title\n",
        "  w1, b1 = get_params()\n",
        "  x1 = np.array([-30, 30])\n",
        "  y1 = w1*x1 + b1\n",
        "  plt.plot(x1, y1, 'r')\n",
        "  plt.scatter(X, y)\n",
        "  plt.show()"
      ],
      "execution_count": 0,
      "outputs": []
    },
    {
      "cell_type": "code",
      "metadata": {
        "id": "i4P_nT79_TEB",
        "colab_type": "code",
        "colab": {
          "base_uri": "https://localhost:8080/",
          "height": 269
        },
        "outputId": "b6c24f36-ca88-45ef-a8ed-adde1c222713"
      },
      "source": [
        "plot_fit('Initial Model')"
      ],
      "execution_count": 44,
      "outputs": [
        {
          "output_type": "display_data",
          "data": {
            "image/png": "[encoded data removed]",
            "text/plain": [
              "<Figure size 432x288 with 1 Axes>"
            ]
          },
          "metadata": {
            "tags": []
          }
        }
      ]
    },
    {
      "cell_type": "markdown",
      "metadata": {
        "id": "kOp6RV8wKqly",
        "colab_type": "text"
      },
      "source": [
        "#Gradient Decent\n",
        "\n",
        "> **Обучение простой линейной модели**\n",
        "\n"
      ]
    },
    {
      "cell_type": "code",
      "metadata": {
        "id": "C_ipqlnAKvvv",
        "colab_type": "code",
        "colab": {}
      },
      "source": [
        "criterion = nn.MSELoss()\n",
        "optimizer = torch.optim.SGD(model.parameters(), lr=0.01)"
      ],
      "execution_count": 0,
      "outputs": []
    },
    {
      "cell_type": "code",
      "metadata": {
        "id": "deEjozzqUtWT",
        "colab_type": "code",
        "colab": {
          "base_uri": "https://localhost:8080/",
          "height": 1000
        },
        "outputId": "4dcc0351-90bb-4171-aab0-1f554c64e966"
      },
      "source": [
        "epochs = 100\n",
        "losses = []\n",
        "for i in range(epochs):\n",
        "  y_pred = model.forward(X)\n",
        "  loss = criterion(y_pred, y)\n",
        "  print(\"ecpoch: \", i, \"loss: \", loss.item())\n",
        "  \n",
        "  losses.append(loss)\n",
        "  optimizer.zero_grad()\n",
        "  loss.backward()\n",
        "  optimizer.step()"
      ],
      "execution_count": 50,
      "outputs": [
        {
          "output_type": "stream",
          "text": [
            "ecpoch:  0 loss:  10.052502632141113\n",
            "ecpoch:  1 loss:  10.05250072479248\n",
            "ecpoch:  2 loss:  10.052499771118164\n",
            "ecpoch:  3 loss:  10.052498817443848\n",
            "ecpoch:  4 loss:  10.052497863769531\n",
            "ecpoch:  5 loss:  10.052496910095215\n",
            "ecpoch:  6 loss:  10.052495956420898\n",
            "ecpoch:  7 loss:  10.052495002746582\n",
            "ecpoch:  8 loss:  10.052495002746582\n",
            "ecpoch:  9 loss:  10.052494049072266\n",
            "ecpoch:  10 loss:  10.05249309539795\n",
            "ecpoch:  11 loss:  10.052492141723633\n",
            "ecpoch:  12 loss:  10.052491188049316\n",
            "ecpoch:  13 loss:  10.052491188049316\n",
            "ecpoch:  14 loss:  10.052490234375\n",
            "ecpoch:  15 loss:  10.052489280700684\n",
            "ecpoch:  16 loss:  10.052488327026367\n",
            "ecpoch:  17 loss:  10.052488327026367\n",
            "ecpoch:  18 loss:  10.05248737335205\n",
            "ecpoch:  19 loss:  10.05248737335205\n",
            "ecpoch:  20 loss:  10.052486419677734\n",
            "ecpoch:  21 loss:  10.052486419677734\n",
            "ecpoch:  22 loss:  10.052485466003418\n",
            "ecpoch:  23 loss:  10.052485466003418\n",
            "ecpoch:  24 loss:  10.052485466003418\n",
            "ecpoch:  25 loss:  10.052484512329102\n",
            "ecpoch:  26 loss:  10.052483558654785\n",
            "ecpoch:  27 loss:  10.052483558654785\n",
            "ecpoch:  28 loss:  10.052482604980469\n",
            "ecpoch:  29 loss:  10.052482604980469\n",
            "ecpoch:  30 loss:  10.052482604980469\n",
            "ecpoch:  31 loss:  10.052481651306152\n",
            "ecpoch:  32 loss:  10.052481651306152\n",
            "ecpoch:  33 loss:  10.052481651306152\n",
            "ecpoch:  34 loss:  10.052480697631836\n",
            "ecpoch:  35 loss:  10.052480697631836\n",
            "ecpoch:  36 loss:  10.052480697631836\n",
            "ecpoch:  37 loss:  10.052480697631836\n",
            "ecpoch:  38 loss:  10.05247974395752\n",
            "ecpoch:  39 loss:  10.05247974395752\n",
            "ecpoch:  40 loss:  10.05247974395752\n",
            "ecpoch:  41 loss:  10.05247974395752\n",
            "ecpoch:  42 loss:  10.05247974395752\n",
            "ecpoch:  43 loss:  10.052478790283203\n",
            "ecpoch:  44 loss:  10.052478790283203\n",
            "ecpoch:  45 loss:  10.052478790283203\n",
            "ecpoch:  46 loss:  10.052478790283203\n",
            "ecpoch:  47 loss:  10.052478790283203\n",
            "ecpoch:  48 loss:  10.052477836608887\n",
            "ecpoch:  49 loss:  10.052477836608887\n",
            "ecpoch:  50 loss:  10.052477836608887\n",
            "ecpoch:  51 loss:  10.052477836608887\n",
            "ecpoch:  52 loss:  10.052477836608887\n",
            "ecpoch:  53 loss:  10.05247688293457\n",
            "ecpoch:  54 loss:  10.052477836608887\n",
            "ecpoch:  55 loss:  10.05247688293457\n",
            "ecpoch:  56 loss:  10.05247688293457\n",
            "ecpoch:  57 loss:  10.05247688293457\n",
            "ecpoch:  58 loss:  10.05247688293457\n",
            "ecpoch:  59 loss:  10.05247688293457\n",
            "ecpoch:  60 loss:  10.05247688293457\n",
            "ecpoch:  61 loss:  10.05247688293457\n",
            "ecpoch:  62 loss:  10.052475929260254\n",
            "ecpoch:  63 loss:  10.052475929260254\n",
            "ecpoch:  64 loss:  10.052475929260254\n",
            "ecpoch:  65 loss:  10.052475929260254\n",
            "ecpoch:  66 loss:  10.052475929260254\n",
            "ecpoch:  67 loss:  10.052475929260254\n",
            "ecpoch:  68 loss:  10.052475929260254\n",
            "ecpoch:  69 loss:  10.052475929260254\n",
            "ecpoch:  70 loss:  10.052475929260254\n",
            "ecpoch:  71 loss:  10.052475929260254\n",
            "ecpoch:  72 loss:  10.052475929260254\n",
            "ecpoch:  73 loss:  10.052475929260254\n",
            "ecpoch:  74 loss:  10.052475929260254\n",
            "ecpoch:  75 loss:  10.052475929260254\n",
            "ecpoch:  76 loss:  10.052475929260254\n",
            "ecpoch:  77 loss:  10.052475929260254\n",
            "ecpoch:  78 loss:  10.052474975585938\n",
            "ecpoch:  79 loss:  10.052474975585938\n",
            "ecpoch:  80 loss:  10.052474975585938\n",
            "ecpoch:  81 loss:  10.052474975585938\n",
            "ecpoch:  82 loss:  10.052474975585938\n",
            "ecpoch:  83 loss:  10.052474975585938\n",
            "ecpoch:  84 loss:  10.052474975585938\n",
            "ecpoch:  85 loss:  10.052474975585938\n",
            "ecpoch:  86 loss:  10.052474975585938\n",
            "ecpoch:  87 loss:  10.052474975585938\n",
            "ecpoch:  88 loss:  10.052474975585938\n",
            "ecpoch:  89 loss:  10.052474975585938\n",
            "ecpoch:  90 loss:  10.052474975585938\n",
            "ecpoch:  91 loss:  10.052474975585938\n",
            "ecpoch:  92 loss:  10.052474975585938\n",
            "ecpoch:  93 loss:  10.052474975585938\n",
            "ecpoch:  94 loss:  10.052474975585938\n",
            "ecpoch:  95 loss:  10.052474975585938\n",
            "ecpoch:  96 loss:  10.052474975585938\n",
            "ecpoch:  97 loss:  10.052474021911621\n",
            "ecpoch:  98 loss:  10.052474975585938\n",
            "ecpoch:  99 loss:  10.052474975585938\n"
          ],
          "name": "stdout"
        }
      ]
    },
    {
      "cell_type": "code",
      "metadata": {
        "id": "Ejrrh2yzVcLM",
        "colab_type": "code",
        "colab": {
          "base_uri": "https://localhost:8080/",
          "height": 308
        },
        "outputId": "7a78a033-770a-49e4-b49e-dfe7f7d9a6b2"
      },
      "source": [
        "plt.plot(range(epochs), losses);\n",
        "plt.ylabel('Loss')\n",
        "plt.xlabel('Epoch')"
      ],
      "execution_count": 52,
      "outputs": [
        {
          "output_type": "execute_result",
          "data": {
            "text/plain": [
              "Text(0.5, 0, 'Epoch')"
            ]
          },
          "metadata": {
            "tags": []
          },
          "execution_count": 52
        },
        {
          "output_type": "display_data",
          "data": {
            "image/png": "[encoded data removed]",
            "text/plain": [
              "<Figure size 432x288 with 1 Axes>"
            ]
          },
          "metadata": {
            "tags": []
          }
        }
      ]
    },
    {
      "cell_type": "code",
      "metadata": {
        "id": "TtFwavaOWhU4",
        "colab_type": "code",
        "colab": {
          "base_uri": "https://localhost:8080/",
          "height": 269
        },
        "outputId": "c0c29cf3-0dcf-4f99-cb5a-33e113fc9cf9"
      },
      "source": [
        "plot_fit(\"Trained model\")"
      ],
      "execution_count": 53,
      "outputs": [
        {
          "output_type": "display_data",
          "data": {
            "image/png": "[encoded data removed]",
            "text/plain": [
              "<Figure size 432x288 with 1 Axes>"
            ]
          },
          "metadata": {
            "tags": []
          }
        }
      ]
    },
    {
      "cell_type": "code",
      "metadata": {
        "id": "FlD9DT0kXIAM",
        "colab_type": "code",
        "colab": {}
      },
      "source": [
        ""
      ],
      "execution_count": 0,
      "outputs": []
    }
  ]
}