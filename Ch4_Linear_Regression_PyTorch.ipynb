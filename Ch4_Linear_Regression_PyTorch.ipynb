{
  "nbformat": 4,
  "nbformat_minor": 0,
  "metadata": {
    "colab": {
      "name": "Ch4: Linear Regression - PyTorch.ipynb",
      "version": "0.3.2",
      "provenance": [],
      "include_colab_link": true
    },
    "kernelspec": {
      "name": "python3",
      "display_name": "Python 3"
    },
    "accelerator": "GPU"
  },
  "cells": [
    {
      "cell_type": "markdown",
      "metadata": {
        "id": "view-in-github",
        "colab_type": "text"
      },
      "source": [
        "<a href=\"https://colab.research.google.com/github/Jakondo/Python-for-DL-and-CV/blob/master/Ch4_Linear_Regression_PyTorch.ipynb\" target=\"_parent\"><img src=\"https://colab.research.google.com/assets/colab-badge.svg\" alt=\"Open In Colab\"/></a>"
      ]
    },
    {
      "cell_type": "markdown",
      "metadata": {
        "id": "ZXHnfMaAlpZ6",
        "colab_type": "text"
      },
      "source": [
        "#Chapter 4: Linear Regression - PyTorch\n",
        "---\n",
        "\n",
        "\n",
        "\n"
      ]
    },
    {
      "cell_type": "code",
      "metadata": {
        "id": "pSefx2fRld4V",
        "colab_type": "code",
        "colab": {}
      },
      "source": [
        "import torch\n",
        "#from torch.nn import Linear\n",
        "import torch.nn as nn"
      ],
      "execution_count": 0,
      "outputs": []
    },
    {
      "cell_type": "markdown",
      "metadata": {
        "id": "X6i6uofOwBmg",
        "colab_type": "text"
      },
      "source": [
        "#Making Predictions"
      ]
    },
    {
      "cell_type": "code",
      "metadata": {
        "id": "8GHSLUm8v9-9",
        "colab_type": "code",
        "colab": {}
      },
      "source": [
        "w = torch.tensor(3.0, requires_grad=True)\n",
        "b = torch.tensor(1.0, requires_grad=True)"
      ],
      "execution_count": 0,
      "outputs": []
    },
    {
      "cell_type": "code",
      "metadata": {
        "id": "5LXhXIc_xDk_",
        "colab_type": "code",
        "colab": {}
      },
      "source": [
        "def forward(x):\n",
        "  y = w*x +b\n",
        "  return y"
      ],
      "execution_count": 0,
      "outputs": []
    },
    {
      "cell_type": "code",
      "metadata": {
        "id": "TESlxuEBxQNw",
        "colab_type": "code",
        "colab": {
          "base_uri": "https://localhost:8080/",
          "height": 54
        },
        "outputId": "5577c2fc-877c-4fdf-e932-ed409f1cc4c7"
      },
      "source": [
        "x = torch.tensor([[4], [7]])\n",
        "forward(x)"
      ],
      "execution_count": 6,
      "outputs": [
        {
          "output_type": "execute_result",
          "data": {
            "text/plain": [
              "tensor([[13],\n",
              "        [22]], grad_fn=<AddBackward0>)"
            ]
          },
          "metadata": {
            "tags": []
          },
          "execution_count": 6
        }
      ]
    },
    {
      "cell_type": "markdown",
      "metadata": {
        "id": "xDVqpRzix0HO",
        "colab_type": "text"
      },
      "source": [
        "#Linear Class"
      ]
    },
    {
      "cell_type": "code",
      "metadata": {
        "id": "_U7hILcmxT8w",
        "colab_type": "code",
        "colab": {
          "base_uri": "https://localhost:8080/",
          "height": 72
        },
        "outputId": "ca19ca13-dc47-4b33-8306-722de2459479"
      },
      "source": [
        "torch.manual_seed(1) #используется для того чтобы вводимые рандомные значения не менялись\n",
        "model = Linear(in_features=1, out_features=1)\n",
        "print(model.bias, model.weight)"
      ],
      "execution_count": 8,
      "outputs": [
        {
          "output_type": "stream",
          "text": [
            "Parameter containing:\n",
            "tensor([-0.4414], requires_grad=True) Parameter containing:\n",
            "tensor([[0.5153]], requires_grad=True)\n"
          ],
          "name": "stdout"
        }
      ]
    },
    {
      "cell_type": "code",
      "metadata": {
        "id": "Tss4RM2mzLXF",
        "colab_type": "code",
        "colab": {
          "base_uri": "https://localhost:8080/",
          "height": 72
        },
        "outputId": "f340fa52-e20e-411f-bf64-8cd6adaee7b5"
      },
      "source": [
        "x = torch.tensor([[2.0], [3.0], [4.5]])\n",
        "model(x)"
      ],
      "execution_count": 11,
      "outputs": [
        {
          "output_type": "execute_result",
          "data": {
            "text/plain": [
              "tensor([[0.5891],\n",
              "        [1.1044],\n",
              "        [1.8773]], grad_fn=<AddmmBackward>)"
            ]
          },
          "metadata": {
            "tags": []
          },
          "execution_count": 11
        }
      ]
    },
    {
      "cell_type": "markdown",
      "metadata": {
        "id": "KwR2XMkazu2E",
        "colab_type": "text"
      },
      "source": [
        "#Custom Modules"
      ]
    },
    {
      "cell_type": "code",
      "metadata": {
        "id": "WMfsy5XIzyOJ",
        "colab_type": "code",
        "colab": {}
      },
      "source": [
        "class LR(nn.Module):\n",
        "  def __init__(self, input_size, output_size):\n",
        "    super().__init__()\n",
        "    self.linear = nn.Linear(input_size, output_size)\n",
        "  \n",
        "  def forward(self, x):\n",
        "    pred = self.linear(x)\n",
        "    return pred"
      ],
      "execution_count": 0,
      "outputs": []
    },
    {
      "cell_type": "code",
      "metadata": {
        "id": "zisdTmDh2uv4",
        "colab_type": "code",
        "colab": {}
      },
      "source": [
        "torch.manual_seed(1)\n",
        "model = LR(1, 1)\n",
        "#print(list(model.parameters()))"
      ],
      "execution_count": 0,
      "outputs": []
    },
    {
      "cell_type": "code",
      "metadata": {
        "id": "x8DE9P5M2_ll",
        "colab_type": "code",
        "colab": {
          "base_uri": "https://localhost:8080/",
          "height": 54
        },
        "outputId": "06b0580d-2b4c-4499-a266-e6c462042213"
      },
      "source": [
        "x = torch.tensor([[1.0], [1.4]])\n",
        "print(model.forward(x))"
      ],
      "execution_count": 27,
      "outputs": [
        {
          "output_type": "stream",
          "text": [
            "tensor([[0.0739],\n",
            "        [0.2800]], grad_fn=<AddmmBackward>)\n"
          ],
          "name": "stdout"
        }
      ]
    },
    {
      "cell_type": "markdown",
      "metadata": {
        "id": "cY2TPbiG32PK",
        "colab_type": "text"
      },
      "source": [
        "#Creating Dataset"
      ]
    },
    {
      "cell_type": "code",
      "metadata": {
        "id": "9H7QMYWO3fjF",
        "colab_type": "code",
        "colab": {}
      },
      "source": [
        ""
      ],
      "execution_count": 0,
      "outputs": []
    }
  ]
}